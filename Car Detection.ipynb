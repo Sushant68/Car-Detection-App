{
 "cells": [
  {
   "cell_type": "code",
   "execution_count": 3,
   "id": "c364edfa-cc0a-41a2-b216-b7ab4584597e",
   "metadata": {},
   "outputs": [
    {
     "name": "stdout",
     "output_type": "stream",
     "text": [
      "Downloading yolov3.weights...\n",
      "yolov3.weights downloaded successfully.\n",
      "Downloading yolov3.cfg...\n",
      "yolov3.cfg downloaded successfully.\n",
      "Downloading coco.names...\n",
      "coco.names downloaded successfully.\n"
     ]
    }
   ],
   "source": [
    "import requests\n",
    "\n",
    "# URLs for the files\n",
    "urls = {\n",
    "    \"yolov3.weights\": \"https://pjreddie.com/media/files/yolov3.weights\",\n",
    "    \"yolov3.cfg\": \"https://raw.githubusercontent.com/pjreddie/darknet/master/cfg/yolov3.cfg\",\n",
    "    \"coco.names\": \"https://raw.githubusercontent.com/pjreddie/darknet/master/data/coco.names\"\n",
    "}\n",
    "\n",
    "# Download each file\n",
    "for filename, url in urls.items():\n",
    "    print(f\"Downloading {filename}...\")\n",
    "    response = requests.get(url)\n",
    "    with open(filename, 'wb') as file:\n",
    "        file.write(response.content)\n",
    "    print(f\"{filename} downloaded successfully.\")\n"
   ]
  },
  {
   "cell_type": "code",
   "execution_count": null,
   "id": "fd456c7e-3942-416e-85aa-a4fdc1c7e1e3",
   "metadata": {},
   "outputs": [],
   "source": [
    "weight_path= r\"C:\\Car Detection App\\yolov3.weights\"\n",
    "config_path= r\"C:\\Car Detection App\\yolov3.cfg\"\n",
    "names_path= r\"C:\\Car Detection App\\coco.names\""
   ]
  },
  {
   "cell_type": "code",
   "execution_count": null,
   "id": "b695e7aa-cbe4-4765-a96b-688c40efece8",
   "metadata": {},
   "outputs": [],
   "source": [
    "# Loading YOLO v3\n",
    "net= cv2.dnn.readNet(weight_path, config_path)\n",
    "layer_names= net.getLayerNames()\n",
    "output_layers= [layer_names[i - 1] for i in net.getUnconnectedOutLayers()]"
   ]
  },
  {
   "cell_type": "code",
   "execution_count": null,
   "id": "d47ce889-95d9-49a9-bd68-a3e52fcdc5cc",
   "metadata": {},
   "outputs": [],
   "source": [
    "# Load Coco Names\n",
    "with open(names_path, \"r\") as f:\n",
    "    classes= [line.strip() for line in f.readlines()]"
   ]
  },
  {
   "cell_type": "code",
   "execution_count": null,
   "id": "0c00a69d-de04-4011-af05-934be009f33d",
   "metadata": {},
   "outputs": [],
   "source": [
    "def car_detectn(image_path):\n",
    "    \n",
    "    img= cv2.imread(image_path)\n",
    "    h_img, w_img, ch= img.shape()\n",
    "\n",
    "    blob= cv2.dnn.blobFromImage(img, 0.00392, (416, 416), (0, 0, 0), True, crop= False)\n",
    "    net.setInput(blob)\n",
    "    outs= net.forward(output_layers)\n",
    "\n",
    "    class_ids= []\n",
    "    confidences= []\n",
    "    boxes= []\n",
    "    for i in outs:\n",
    "        for j in i:\n",
    "            scores= detection[5:]\n",
    "            class_id= np.argmax(scores)\n",
    "            confidence= scores[class_id]\n",
    "            if confidence > 0.5 and classes[class_id] == \"car\":\n",
    "                \n",
    "                # Object Parameters\n",
    "                center_x= int(detection[0]*w_img)\n",
    "                center_y= int(detection[1]*h_img)\n",
    "                w= int(detection[2]*w_img)\n",
    "                h= int(detection[3]*h_img)\n",
    "                \n",
    "                # Rectangular Coordinates\n",
    "                x= int(center_x - w/2)\n",
    "                y= int(center_y - h/2)\n",
    "                boxes.append([x, y, w, h])\n",
    "                confidences.append(float(confidence))\n",
    "                class_ids.append(class_id)\n",
    "\n",
    "    indexes= cv2.dnn.NMSBoxes(boxes, confidences, 0.5, 0.4)\n",
    "\n",
    "    for i in range(len(boxes)):\n",
    "        if i in indexes:\n",
    "            x, y, w, h= boxes[i]\n",
    "            label= str(classes[class_ids[i]])\n",
    "            color= (0, 255, 0)\n",
    "            cv2.rectangle(img, (x, y), (x + w, y + h), color, 2)\n",
    "            cv2.putText(img, label, (x, y-8), cv2.FONT_HERSHEY_SIMPLEX, 0.4, color, 3)\n",
    "    output_path= 'detected_car.jpg'\n",
    "    cv2.imwrite(output_path, img)\n",
    "    return output_path\n",
    "\n",
    "    "
   ]
  },
  {
   "cell_type": "code",
   "execution_count": null,
   "id": "64c57234-a4f9-456b-a866-5d637a7366ce",
   "metadata": {},
   "outputs": [],
   "source": []
  },
  {
   "cell_type": "code",
   "execution_count": null,
   "id": "df57d6e8-4232-44ad-8153-95fcbf8cad2c",
   "metadata": {},
   "outputs": [],
   "source": []
  },
  {
   "cell_type": "code",
   "execution_count": null,
   "id": "c521fcd5-99a5-4ab0-9f3c-1d05ce24e8be",
   "metadata": {},
   "outputs": [],
   "source": []
  },
  {
   "cell_type": "code",
   "execution_count": null,
   "id": "2b73bccb-9fbf-4712-b86e-fa063ca95e8d",
   "metadata": {},
   "outputs": [],
   "source": []
  },
  {
   "cell_type": "code",
   "execution_count": null,
   "id": "5169c1b8-bc83-4a85-89e9-a10013b62474",
   "metadata": {},
   "outputs": [],
   "source": []
  },
  {
   "cell_type": "code",
   "execution_count": null,
   "id": "98553a51-e4cd-48f3-9073-97a978e8ad61",
   "metadata": {},
   "outputs": [],
   "source": []
  },
  {
   "cell_type": "code",
   "execution_count": null,
   "id": "62a4629c-b329-4e45-abef-950108ce5e88",
   "metadata": {},
   "outputs": [],
   "source": []
  },
  {
   "cell_type": "code",
   "execution_count": null,
   "id": "4e741696-ad69-4694-97e4-7b730e13d160",
   "metadata": {},
   "outputs": [],
   "source": []
  },
  {
   "cell_type": "code",
   "execution_count": null,
   "id": "c68605c2-040d-46d8-bae2-bc6ef6f736f0",
   "metadata": {},
   "outputs": [],
   "source": []
  }
 ],
 "metadata": {
  "kernelspec": {
   "display_name": "Python 3 (ipykernel)",
   "language": "python",
   "name": "python3"
  },
  "language_info": {
   "codemirror_mode": {
    "name": "ipython",
    "version": 3
   },
   "file_extension": ".py",
   "mimetype": "text/x-python",
   "name": "python",
   "nbconvert_exporter": "python",
   "pygments_lexer": "ipython3",
   "version": "3.11.5"
  }
 },
 "nbformat": 4,
 "nbformat_minor": 5
}
